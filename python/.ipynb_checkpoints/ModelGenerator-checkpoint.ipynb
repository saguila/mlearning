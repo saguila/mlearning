{
 "cells": [
  {
   "cell_type": "code",
   "execution_count": 880,
   "metadata": {
    "collapsed": false
   },
   "outputs": [
    {
     "name": "stdout",
     "output_type": "stream",
     "text": [
      "0.03182417484\n",
      "62.345148969\n",
      "-0.0172752818422\n",
      "95.9845830203\n",
      "0.00188343753473\n",
      "1028.72302221\n",
      "0.0467183851269\n",
      "41.9790914647\n"
     ]
    },
    {
     "data": {
      "text/plain": [
       "['div.pkl', 'div.pkl_01.npy', 'div.pkl_02.npy']"
      ]
     },
     "execution_count": 880,
     "metadata": {},
     "output_type": "execute_result"
    }
   ],
   "source": [
    "import pandas as pd\n",
    "import numpy as np\n",
    "from sklearn import linear_model\n",
    "from sklearn.externals import joblib\n",
    "from sklearn.cross_validation import train_test_split\n",
    "\n",
    "def generaModelo(df):\n",
    "    X = df.copy().drop({'Nombre','Tiempo','Operacion'},1)\n",
    "    y = df.copy().pop('Tiempo') # Copiamos solo el tiempo\n",
    "    X_train, X_test, y_train, y_test = train_test_split(X, y)\n",
    "    model = linear_model.LinearRegression(copy_X=True, fit_intercept=True, n_jobs=1, normalize=False)\n",
    "    model.fit(X_train,y_train)\n",
    "    print model.score(X_test, y_test)\n",
    "    print np.mean((model.predict(X_test)-y_test)**2)\n",
    "    return model\n",
    "\n",
    "# Recolectando datos\n",
    "df = pd.read_csv('./Descargas/allData.csv', \n",
    "                  names = [\"Nombre\", \"Operando1\",\"Operacion\",\"Operando2\",\"Tiempo\"])\n",
    "df = df[df['Tiempo'] >= 0] #No quedamos con las filas que tiene tiempos positivos.\n",
    "add = df[df['Operacion'] == '+'] #No quedamos con las filas que tiene tiempos positivos.\n",
    "sub = df[df['Operacion'] == '-']\n",
    "mul = df[df['Operacion'] == '*']\n",
    "div = df[df['Operacion'] == '/']\n",
    "df['Operacion'] = df['Operacion'].map({'+':0, '-':1, '*':2, '/':3}).astype(int)\n",
    "joblib.dump(generaModelo(add), 'add.pkl')\n",
    "joblib.dump(generaModelo(sub), 'sub.pkl') \n",
    "joblib.dump(generaModelo(mul), 'mul.pkl') \n",
    "joblib.dump(generaModelo(div), 'div.pkl') \n",
    "\n"
   ]
  }
 ],
 "metadata": {
  "kernelspec": {
   "display_name": "Python 2",
   "language": "python",
   "name": "python2"
  },
  "language_info": {
   "codemirror_mode": {
    "name": "ipython",
    "version": 2
   },
   "file_extension": ".py",
   "mimetype": "text/x-python",
   "name": "python",
   "nbconvert_exporter": "python",
   "pygments_lexer": "ipython2",
   "version": "2.7.11"
  }
 },
 "nbformat": 4,
 "nbformat_minor": 0
}
