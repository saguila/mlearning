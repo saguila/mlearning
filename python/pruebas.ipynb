{
 "cells": [
  {
   "cell_type": "code",
   "execution_count": 17,
   "metadata": {
    "collapsed": true
   },
   "outputs": [],
   "source": [
    "import pandas\n",
    "from sklearn.externals import joblib\n",
    "add_model = joblib.load('add.pkl')\n",
    "sub_model = joblib.load('sub.pkl')\n",
    "mul_model = joblib.load('mul.pkl')\n",
    "div_model = joblib.load('div.pkl')\n",
    "def predict(op1,op2,op):\n",
    "\tdata={'Operador1':[op1], 'Operador2':[op2]}\n",
    "\ta=pandas.DataFrame(data, columns=['Operador1', 'Operador2'])\n",
    "\tif op == 'add':\n",
    "\t\tb = add_model.predict(a)\n",
    "\telif op == 'sub':\n",
    "\t\tb = sub_model.predict(a)\n",
    "\telif op == 'mul':\n",
    "\t\tb = mul_model.predict(a)\n",
    "\telif op == 'div':\n",
    "\t\tb = div_model.predict(a)\n",
    "\telse:\n",
    "\t\treturn \"Error\"\n",
    "\treturn str(b[0])"
   ]
  },
  {
   "cell_type": "code",
   "execution_count": 24,
   "metadata": {
    "collapsed": false
   },
   "outputs": [
    {
     "name": "stdout",
     "output_type": "stream",
     "text": [
      "E\n"
     ]
    }
   ],
   "source": [
    "print predict(1,2,'')"
   ]
  }
 ],
 "metadata": {
  "kernelspec": {
   "display_name": "Python 2",
   "language": "python",
   "name": "python2"
  },
  "language_info": {
   "codemirror_mode": {
    "name": "ipython",
    "version": 2
   },
   "file_extension": ".py",
   "mimetype": "text/x-python",
   "name": "python",
   "nbconvert_exporter": "python",
   "pygments_lexer": "ipython2",
   "version": "2.7.11"
  }
 },
 "nbformat": 4,
 "nbformat_minor": 0
}
